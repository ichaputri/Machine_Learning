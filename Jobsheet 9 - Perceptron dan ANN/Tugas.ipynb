{
 "cells": [
  {
   "cell_type": "markdown",
   "metadata": {},
   "source": [
    "# **Tugas**\n",
    "\n",
    "- Lakukan klasifikasi pada data MNIST dengan menggunakan model ANN\n",
    "\n",
    "- Anda diperbolehkan melakukan eksplorasi terhadap,\n",
    "\n",
    "    - Metode pra pengolahan\n",
    "\n",
    "    - Pemilihan fitur\n",
    "\n",
    "    - Arsitektur ANN\n",
    "\n",
    "    - Fungsi Aktiviasi\n",
    "\n",
    "- ANN diimplementasikan dengan menggunakan tensorflow.\n",
    "\n",
    "- **JELASKAN HASIL YANG ANDA DAPATKAN,**\n",
    "\n",
    "    - **AKURASI**\n",
    "\n",
    "    - **CONFUSION MATRIX**\n",
    "\n",
    "    - **KONFIGURASI MODEL --> MULAI DARI PRA PENGOLAHAN SAMPAI ARSITEKTUR ANN**\n",
    "\n",
    "---\n"
   ]
  },
  {
   "cell_type": "code",
   "execution_count": 22,
   "metadata": {},
   "outputs": [],
   "source": [
    "import numpy as np\n",
    "import pandas as pd\n",
    "import tensorflow as tf\n",
    "from sklearn import datasets\n",
    "from sklearn.model_selection import train_test_split\n",
    "from sklearn.preprocessing import StandardScaler\n",
    "from sklearn.metrics import confusion_matrix, classification_report\n",
    "import seaborn as sns\n",
    "import matplotlib.pyplot as plt"
   ]
  },
  {
   "cell_type": "markdown",
   "metadata": {},
   "source": [
    "- MNIST adalah dataset gambar dari angka tulisan tangan berukuran 28x28 piksel, di mana setiap angka diberi label 0-9. Dataset ini diimpor dari OpenML.\n",
    "- `mnist.data` berisi gambar, dan `mnist.target` berisi label (angka dari 0 hingga 9)."
   ]
  },
  {
   "cell_type": "code",
   "execution_count": 3,
   "metadata": {},
   "outputs": [],
   "source": [
    "mnist = datasets.fetch_openml(\"mnist_784\")"
   ]
  },
  {
   "cell_type": "code",
   "execution_count": 4,
   "metadata": {},
   "outputs": [
    {
     "name": "stdout",
     "output_type": "stream",
     "text": [
      "Jumlah sampel: 70000\n",
      "Dimensi setiap sampel: 784\n",
      "Jumlah kelas: 10\n"
     ]
    }
   ],
   "source": [
    "print(\"Jumlah sampel:\", mnist.data.shape[0])  # Jumlah sampel/data points\n",
    "print(\"Dimensi setiap sampel:\", mnist.data.shape[1])  # Dimensi setiap sampel\n",
    "print(\"Jumlah kelas:\", len(mnist.target.unique()))"
   ]
  },
  {
   "cell_type": "code",
   "execution_count": 5,
   "metadata": {},
   "outputs": [],
   "source": [
    "# Pisahkan data gambar dan label\n",
    "images = mnist.data.astype('float32')\n",
    "labels = mnist.target.astype('int')"
   ]
  },
  {
   "cell_type": "markdown",
   "metadata": {},
   "source": [
    "### Pra-pengolahan Data"
   ]
  },
  {
   "cell_type": "code",
   "execution_count": 7,
   "metadata": {},
   "outputs": [],
   "source": [
    "# Normalisasi: Skala nilai piksel ke dalam rentang [0, 1]\n",
    "images /= 255.0\n",
    "\n",
    "# Pisahkan data menjadi data train dan test (80% train, 20% test)\n",
    "x_train, x_test, y_train, y_test = train_test_split(images, labels, test_size=0.2, random_state=42)"
   ]
  },
  {
   "cell_type": "code",
   "execution_count": 8,
   "metadata": {},
   "outputs": [],
   "source": [
    "# Standarisasi menggunakan Scaler\n",
    "scaler = StandardScaler()\n",
    "x_train = scaler.fit_transform(x_train)\n",
    "x_test = scaler.transform(x_test)"
   ]
  },
  {
   "cell_type": "markdown",
   "metadata": {},
   "source": [
    "### Membangun model ANN\n",
    "\n"
   ]
  },
  {
   "cell_type": "code",
   "execution_count": 10,
   "metadata": {},
   "outputs": [],
   "source": [
    "model = tf.keras.models.Sequential([\n",
    "    tf.keras.layers.Input(shape=(784,)),\n",
    "    tf.keras.layers.Dense(128, activation='relu'),\n",
    "    tf.keras.layers.Dense(64, activation='relu'),\n",
    "    tf.keras.layers.Dense(10, activation='softmax')\n",
    "])"
   ]
  },
  {
   "cell_type": "markdown",
   "metadata": {},
   "source": [
    "Model menggunakan **`Sequential`** untuk membangun neural network secara berurutan, dengan lapisan-lapisan yang ditambahkan satu per satu. Lapisan input menerima gambar 28x28 yang telah diratakan menjadi vektor dengan 784 elemen. Terdapat dua lapisan tersembunyi: lapisan pertama memiliki 128 neuron dengan fungsi aktivasi **ReLU (Rectified Linear Unit)** untuk memperkenalkan non-linearitas, dan lapisan kedua terdiri dari 64 neuron dengan fungsi aktivasi yang sama. Akhirnya, lapisan output memiliki 10 neuron, masing-masing mewakili kelas angka 0 hingga 9, dengan fungsi aktivasi **softmax** untuk mengubah skor menjadi probabilitas dalam klasifikasi multi-kelas."
   ]
  },
  {
   "cell_type": "code",
   "execution_count": 11,
   "metadata": {},
   "outputs": [],
   "source": [
    "# Kompilasi model\n",
    "model.compile(optimizer='adam', # Optimizer Adam\n",
    "              loss='sparse_categorical_crossentropy',  # Loss untuk klasifikasi multi-kelas\n",
    "              metrics=['accuracy'])"
   ]
  },
  {
   "cell_type": "markdown",
   "metadata": {},
   "source": [
    "- `Optimizer Adam`: Digunakan untuk memperbarui bobot secara otomatis dan efisien, menggabungkan keunggulan dari AdaGrad dan RMSProp.\n",
    "- `Loss sparse_categorical_crossentropy`: Digunakan untuk klasifikasi multi-kelas dengan label integer (0-9), mengukur perbedaan antara prediksi dan label sebenarnya.\n",
    "- `Metrics accuracy`: Mengukur persentase prediksi yang benar selama pelatihan dan evaluasi."
   ]
  },
  {
   "cell_type": "markdown",
   "metadata": {},
   "source": [
    "### Pelatihan Model"
   ]
  },
  {
   "cell_type": "markdown",
   "metadata": {},
   "source": [
    "`Epoch` menentukan berapa kali model memproses data. `validation_split=0.1 `artinya 10% dari data pelatihan digunakan untuk validasi.\n",
    "`batch_size: `Jumlah sampel yang diproses sebelum pembaruan parameter model."
   ]
  },
  {
   "cell_type": "code",
   "execution_count": 12,
   "metadata": {},
   "outputs": [
    {
     "name": "stdout",
     "output_type": "stream",
     "text": [
      "Epoch 1/10\n",
      "\u001b[1m1575/1575\u001b[0m \u001b[32m━━━━━━━━━━━━━━━━━━━━\u001b[0m\u001b[37m\u001b[0m \u001b[1m3s\u001b[0m 1ms/step - accuracy: 0.8777 - loss: 0.4207 - val_accuracy: 0.9586 - val_loss: 0.1553\n",
      "Epoch 2/10\n",
      "\u001b[1m1575/1575\u001b[0m \u001b[32m━━━━━━━━━━━━━━━━━━━━\u001b[0m\u001b[37m\u001b[0m \u001b[1m2s\u001b[0m 1ms/step - accuracy: 0.9696 - loss: 0.0976 - val_accuracy: 0.9638 - val_loss: 0.1494\n",
      "Epoch 3/10\n",
      "\u001b[1m1575/1575\u001b[0m \u001b[32m━━━━━━━━━━━━━━━━━━━━\u001b[0m\u001b[37m\u001b[0m \u001b[1m2s\u001b[0m 2ms/step - accuracy: 0.9783 - loss: 0.0698 - val_accuracy: 0.9668 - val_loss: 0.1439\n",
      "Epoch 4/10\n",
      "\u001b[1m1575/1575\u001b[0m \u001b[32m━━━━━━━━━━━━━━━━━━━━\u001b[0m\u001b[37m\u001b[0m \u001b[1m2s\u001b[0m 1ms/step - accuracy: 0.9856 - loss: 0.0451 - val_accuracy: 0.9711 - val_loss: 0.1487\n",
      "Epoch 5/10\n",
      "\u001b[1m1575/1575\u001b[0m \u001b[32m━━━━━━━━━━━━━━━━━━━━\u001b[0m\u001b[37m\u001b[0m \u001b[1m2s\u001b[0m 1ms/step - accuracy: 0.9893 - loss: 0.0343 - val_accuracy: 0.9641 - val_loss: 0.2335\n",
      "Epoch 6/10\n",
      "\u001b[1m1575/1575\u001b[0m \u001b[32m━━━━━━━━━━━━━━━━━━━━\u001b[0m\u001b[37m\u001b[0m \u001b[1m2s\u001b[0m 1ms/step - accuracy: 0.9891 - loss: 0.0351 - val_accuracy: 0.9712 - val_loss: 0.1687\n",
      "Epoch 7/10\n",
      "\u001b[1m1575/1575\u001b[0m \u001b[32m━━━━━━━━━━━━━━━━━━━━\u001b[0m\u001b[37m\u001b[0m \u001b[1m2s\u001b[0m 1ms/step - accuracy: 0.9920 - loss: 0.0243 - val_accuracy: 0.9734 - val_loss: 0.1568\n",
      "Epoch 8/10\n",
      "\u001b[1m1575/1575\u001b[0m \u001b[32m━━━━━━━━━━━━━━━━━━━━\u001b[0m\u001b[37m\u001b[0m \u001b[1m2s\u001b[0m 1ms/step - accuracy: 0.9937 - loss: 0.0195 - val_accuracy: 0.9705 - val_loss: 0.1973\n",
      "Epoch 9/10\n",
      "\u001b[1m1575/1575\u001b[0m \u001b[32m━━━━━━━━━━━━━━━━━━━━\u001b[0m\u001b[37m\u001b[0m \u001b[1m2s\u001b[0m 1ms/step - accuracy: 0.9936 - loss: 0.0202 - val_accuracy: 0.9671 - val_loss: 0.2202\n",
      "Epoch 10/10\n",
      "\u001b[1m1575/1575\u001b[0m \u001b[32m━━━━━━━━━━━━━━━━━━━━\u001b[0m\u001b[37m\u001b[0m \u001b[1m2s\u001b[0m 1ms/step - accuracy: 0.9940 - loss: 0.0192 - val_accuracy: 0.9711 - val_loss: 0.2719\n"
     ]
    },
    {
     "data": {
      "text/plain": [
       "<keras.src.callbacks.history.History at 0x2714b3d87d0>"
      ]
     },
     "execution_count": 12,
     "metadata": {},
     "output_type": "execute_result"
    }
   ],
   "source": [
    "# Latih model\n",
    "model.fit(x_train, y_train, epochs=10, batch_size=32, validation_split=0.1)\n"
   ]
  },
  {
   "cell_type": "code",
   "execution_count": 21,
   "metadata": {},
   "outputs": [
    {
     "name": "stdout",
     "output_type": "stream",
     "text": [
      "\u001b[1m438/438\u001b[0m \u001b[32m━━━━━━━━━━━━━━━━━━━━\u001b[0m\u001b[37m\u001b[0m \u001b[1m0s\u001b[0m 806us/step - accuracy: 0.9675 - loss: 0.2123\n",
      "Akurasi pada data pelatihan:  0.966929\n",
      "\u001b[1m1750/1750\u001b[0m \u001b[32m━━━━━━━━━━━━━━━━━━━━\u001b[0m\u001b[37m\u001b[0m \u001b[1m1s\u001b[0m 688us/step - accuracy: 0.9936 - loss: 0.0218\n",
      "Akurasi pada data pengujian:  0.991304\n",
      "\u001b[1m438/438\u001b[0m \u001b[32m━━━━━━━━━━━━━━━━━━━━\u001b[0m\u001b[37m\u001b[0m \u001b[1m0s\u001b[0m 777us/step\n",
      "Classification Report:\n",
      "               precision    recall  f1-score   support\n",
      "\n",
      "           0       0.98      0.98      0.98      1343\n",
      "           1       0.98      0.99      0.99      1600\n",
      "           2       0.97      0.95      0.96      1380\n",
      "           3       0.96      0.96      0.96      1433\n",
      "           4       0.97      0.96      0.96      1295\n",
      "           5       0.97      0.95      0.96      1273\n",
      "           6       0.97      0.98      0.98      1396\n",
      "           7       0.97      0.96      0.97      1503\n",
      "           8       0.94      0.96      0.95      1357\n",
      "           9       0.95      0.96      0.96      1420\n",
      "\n",
      "    accuracy                           0.97     14000\n",
      "   macro avg       0.97      0.97      0.97     14000\n",
      "weighted avg       0.97      0.97      0.97     14000\n",
      "\n"
     ]
    }
   ],
   "source": [
    "test_lost, test_acc = model.evaluate(x_test, y_test)\n",
    "print(f\"Akurasi pada data pelatihan: {test_acc: 4f}\")\n",
    "\n",
    "train_lost, train_acc = model.evaluate(x_train, y_train)\n",
    "print(f\"Akurasi pada data pengujian: {train_acc: 2f}\")\n",
    "\n",
    "# Prediksi pada data uji\n",
    "y_pred = np.argmax(model.predict(x_test), axis=-1)\n",
    "\n",
    "# Laporan klasifikasi\n",
    "print(\"Classification Report:\\n\", classification_report(y_test, y_pred))\n"
   ]
  },
  {
   "cell_type": "code",
   "execution_count": 23,
   "metadata": {},
   "outputs": [
    {
     "data": {
      "image/png": "[encoded data removed]",
      "text/plain": [
       "<Figure size 1000x700 with 1 Axes>"
      ]
     },
     "metadata": {},
     "output_type": "display_data"
    }
   ],
   "source": [
    "# Confusion matrix\n",
    "conf_matrix = confusion_matrix(y_test, y_pred)\n",
    "\n",
    "# Visualisasi confusion matrix berwarna\n",
    "plt.figure(figsize=(10, 7))\n",
    "sns.heatmap(conf_matrix, annot=True, fmt='d', cmap='Blues', cbar=False)\n",
    "plt.xlabel('Predicted')\n",
    "plt.ylabel('True')\n",
    "plt.title('Confusion Matrix')\n",
    "plt.show()"
   ]
  }
 ],
 "metadata": {
  "kernelspec": {
   "display_name": "Python 3",
   "language": "python",
   "name": "python3"
  },
  "language_info": {
   "codemirror_mode": {
    "name": "ipython",
    "version": 3
   },
   "file_extension": ".py",
   "mimetype": "text/x-python",
   "name": "python",
   "nbconvert_exporter": "python",
   "pygments_lexer": "ipython3",
   "version": "3.11.1"
  }
 },
 "nbformat": 4,
 "nbformat_minor": 2
}
